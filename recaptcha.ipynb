{
 "cells": [
  {
   "cell_type": "code",
   "execution_count": 1,
   "metadata": {},
   "outputs": [],
   "source": [
    "from anticaptchaofficial.recaptchav2proxyless import *\n",
    "from selenium import webdriver\n",
    "from selenium.webdriver import ActionChains\n",
    "from selenium.webdriver.chrome.options import Options\n",
    "from selenium.webdriver.chrome.service import Service\n",
    "from webdriver_manager.chrome import ChromeDriverManager\n",
    "from selenium.webdriver.support.ui import Select\n",
    "from selenium.webdriver.support.ui import WebDriverWait\n",
    "from selenium.webdriver.common.by import By\n",
    "from selenium.webdriver.support import expected_conditions as EC\n",
    "import time \n",
    "import pandas as pd\n",
    "import os"
   ]
  },
  {
   "cell_type": "code",
   "execution_count": 2,
   "metadata": {},
   "outputs": [],
   "source": [
    "website = 'https://snia.mop.gob.cl/dgasat/pages/dgasat_main/dgasat_main.htm'"
   ]
  },
  {
   "cell_type": "code",
   "execution_count": 3,
   "metadata": {},
   "outputs": [],
   "source": [
    "def load_drive():\n",
    "    options = webdriver.ChromeOptions()\n",
    "    options.add_argument('--incognito')\n",
    "    options.add_experimental_option(\"excludeSwitches\", [\"enable-automation\"])\n",
    "    options.add_experimental_option('useAutomationExtension', False)\n",
    "    options.binary_location = \"/Applications/Brave Browser.app/Contents/MacOS/Brave Browser\" # Path to Brave Browser (this is the default)\n",
    "    driver_path = 'chromedriver'\n",
    "    driver = webdriver.Chrome(options = options, executable_path = driver_path) \n",
    "    driver.get(website)\n",
    "    \n",
    "    return driver"
   ]
  },
  {
   "cell_type": "code",
   "execution_count": 4,
   "metadata": {},
   "outputs": [],
   "source": [
    "def start_dga(website):\n",
    "    dga_data = driver.find_element_by_xpath('//*[@id=\"ing\"]/div/table/tbody/tr/td/div/center[2]/font/input')\n",
    "    dga_data.click()"
   ]
  },
  {
   "cell_type": "code",
   "execution_count": 5,
   "metadata": {},
   "outputs": [],
   "source": [
    "def select_dropdown(name_river):\n",
    "    \n",
    "    dropdown = Select(driver.find_element_by_xpath('//select[@name=\"estacion1\"]'))\n",
    "    dropdown.select_by_visible_text(name_river)\n",
    "    \n",
    "    look_parameter = driver.find_element_by_xpath('//*[@id=\"ing\"]/div[3]/input')\n",
    "    look_parameter.click()"
   ]
  },
  {
   "cell_type": "code",
   "execution_count": 6,
   "metadata": {},
   "outputs": [],
   "source": [
    "def flow_click(flow_1):\n",
    "    flow = driver.find_element_by_xpath('//div[@class=\"dgarow\"]//tr/td/input[@value='+'\"'+flow_1+'\"'+']')\n",
    "    flow.click()"
   ]
  },
  {
   "cell_type": "code",
   "execution_count": 7,
   "metadata": {},
   "outputs": [],
   "source": [
    "def start_date():\n",
    "    start = driver.find_element_by_xpath('//*[@id=\"fechaInicioTabla\"]').click()\n",
    "    \n",
    "    start_month = driver.find_element_by_xpath('//*[@id=\"ing\"]/div[7]/table[1]/tbody/tr[1]/td[2]/table/tbody/tr[5]/td[1]/div/div/div/p[1]/span[1]')\n",
    "    month = 'Enero'\n",
    "    for i in range(24):\n",
    "        if month != driver.find_element_by_xpath('//*[@id=\"ing\"]/div[7]/table[1]/tbody/tr[1]/td[2]/table/tbody/tr[5]/td[1]/div/div/div/p[1]/span[2]').text:\n",
    "            start_month.click()\n",
    "        else:\n",
    "            break\n",
    "    \n",
    "    start_year = driver.find_element_by_xpath('//*[@id=\"ing\"]/div[7]/table[1]/tbody/tr[1]/td[2]/table/tbody/tr[5]/td[1]/div/div/div/p[2]/span[1]')\n",
    "    year = '2000'\n",
    "    for i in range(24):\n",
    "        if year != driver.find_element_by_xpath('//*[@id=\"year_name\"]').text:\n",
    "            start_year.click()\n",
    "        else:\n",
    "            break\n",
    "        \n",
    "    day = driver.find_elements_by_xpath('//div[@class=\"date_selector\"]//tr/td[@class=\"selectable_day\"]')\n",
    "    for dateelement in day:\n",
    "        date=dateelement.text\n",
    "        if date =='1':\n",
    "            dateelement.click()"
   ]
  },
  {
   "cell_type": "code",
   "execution_count": 8,
   "metadata": {},
   "outputs": [],
   "source": [
    "def look_table():\n",
    "    table = driver.find_element_by_xpath('//*[@id=\"button22\"]')\n",
    "    table.click()"
   ]
  },
  {
   "cell_type": "code",
   "execution_count": 9,
   "metadata": {},
   "outputs": [],
   "source": [
    "def save_data():\n",
    "    river_save = []\n",
    "    \n",
    "    pages = driver.find_element_by_xpath('//*[@id=\"titular\"]/div/form/table[2]/tbody/tr[1]/td[2]')\n",
    "    segmented_pages = pages.text.split()\n",
    "\n",
    "    tour_page = int(segmented_pages[3])\n",
    "    tour_page\n",
    "\n",
    "    for i in range(tour_page):\n",
    "        links = driver.find_elements_by_xpath('//*[@id=\"datos\"]/tbody/tr')\n",
    "        for link in links:\n",
    "            river_save.append(link.text)\n",
    "        next_page = driver.find_element_by_xpath('//*[@id=\"ava\"]')\n",
    "        next_page.click()\n",
    "        \n",
    "    return river_save"
   ]
  },
  {
   "cell_type": "code",
   "execution_count": 10,
   "metadata": {},
   "outputs": [],
   "source": [
    "def config_river(name_river, flow_1):\n",
    "    start_dga(website)\n",
    "    select_dropdown(name_river)\n",
    "    flow_click(flow_1)\n",
    "    start_date()\n",
    "    \n",
    "    #look_table()"
   ]
  },
  {
   "cell_type": "code",
   "execution_count": 11,
   "metadata": {},
   "outputs": [],
   "source": [
    "def data_frame_river(river_transform, name_river_df):\n",
    "    river = []\n",
    "    data_origin = len(river_transform)\n",
    "    for i in range(data_origin):\n",
    "        river.append(river_transform[i].split())\n",
    "        \n",
    "    df = pd.DataFrame(river)\n",
    "    df = df.drop([0], axis=1)\n",
    "    df = df.rename(columns={1:'Fecha', 2:'Hora', 3:'caudal m3 '+name_river_df})\n",
    "    \n",
    "    return df"
   ]
  },
  {
   "cell_type": "code",
   "execution_count": 12,
   "metadata": {},
   "outputs": [],
   "source": [
    "driver = load_drive()"
   ]
  },
  {
   "cell_type": "code",
   "execution_count": 13,
   "metadata": {},
   "outputs": [],
   "source": [
    "name_river = '10432002-3 Río Chamiza Ante Junta Río Chico'"
   ]
  },
  {
   "cell_type": "code",
   "execution_count": 14,
   "metadata": {},
   "outputs": [],
   "source": [
    "flow_1 = \"10432002-3_12_Caudal (m3/seg)\""
   ]
  },
  {
   "cell_type": "code",
   "execution_count": 15,
   "metadata": {},
   "outputs": [
    {
     "name": "stderr",
     "output_type": "stream",
     "text": [
      "/var/folders/fp/n32j0tm119g1bqlc2p3x0gy40000gn/T/ipykernel_29779/688445048.py:2: DeprecationWarning: find_element_by_xpath is deprecated. Please use find_element(by=By.XPATH, value=xpath) instead\n",
      "  dga_data = driver.find_element_by_xpath('//*[@id=\"ing\"]/div/table/tbody/tr/td/div/center[2]/font/input')\n",
      "/var/folders/fp/n32j0tm119g1bqlc2p3x0gy40000gn/T/ipykernel_29779/400481485.py:3: DeprecationWarning: find_element_by_xpath is deprecated. Please use find_element(by=By.XPATH, value=xpath) instead\n",
      "  dropdown = Select(driver.find_element_by_xpath('//select[@name=\"estacion1\"]'))\n",
      "/var/folders/fp/n32j0tm119g1bqlc2p3x0gy40000gn/T/ipykernel_29779/400481485.py:6: DeprecationWarning: find_element_by_xpath is deprecated. Please use find_element(by=By.XPATH, value=xpath) instead\n",
      "  look_parameter = driver.find_element_by_xpath('//*[@id=\"ing\"]/div[3]/input')\n",
      "/var/folders/fp/n32j0tm119g1bqlc2p3x0gy40000gn/T/ipykernel_29779/2672561170.py:4: DeprecationWarning: find_element_by_xpath is deprecated. Please use find_element(by=By.XPATH, value=xpath) instead\n",
      "  start_month = driver.find_element_by_xpath('//*[@id=\"ing\"]/div[7]/table[1]/tbody/tr[1]/td[2]/table/tbody/tr[5]/td[1]/div/div/div/p[1]/span[1]')\n",
      "/var/folders/fp/n32j0tm119g1bqlc2p3x0gy40000gn/T/ipykernel_29779/2672561170.py:7: DeprecationWarning: find_element_by_xpath is deprecated. Please use find_element(by=By.XPATH, value=xpath) instead\n",
      "  if month != driver.find_element_by_xpath('//*[@id=\"ing\"]/div[7]/table[1]/tbody/tr[1]/td[2]/table/tbody/tr[5]/td[1]/div/div/div/p[1]/span[2]').text:\n",
      "/var/folders/fp/n32j0tm119g1bqlc2p3x0gy40000gn/T/ipykernel_29779/2672561170.py:12: DeprecationWarning: find_element_by_xpath is deprecated. Please use find_element(by=By.XPATH, value=xpath) instead\n",
      "  start_year = driver.find_element_by_xpath('//*[@id=\"ing\"]/div[7]/table[1]/tbody/tr[1]/td[2]/table/tbody/tr[5]/td[1]/div/div/div/p[2]/span[1]')\n",
      "/var/folders/fp/n32j0tm119g1bqlc2p3x0gy40000gn/T/ipykernel_29779/2672561170.py:15: DeprecationWarning: find_element_by_xpath is deprecated. Please use find_element(by=By.XPATH, value=xpath) instead\n",
      "  if year != driver.find_element_by_xpath('//*[@id=\"year_name\"]').text:\n",
      "/var/folders/fp/n32j0tm119g1bqlc2p3x0gy40000gn/T/ipykernel_29779/2672561170.py:20: DeprecationWarning: find_elements_by_xpath is deprecated. Please use find_elements(by=By.XPATH, value=xpath) instead\n",
      "  day = driver.find_elements_by_xpath('//div[@class=\"date_selector\"]//tr/td[@class=\"selectable_day\"]')\n"
     ]
    }
   ],
   "source": [
    "config_river(name_river, flow_1)"
   ]
  },
  {
   "cell_type": "code",
   "execution_count": 16,
   "metadata": {},
   "outputs": [],
   "source": [
    "time.sleep(10)"
   ]
  },
  {
   "cell_type": "code",
   "execution_count": 17,
   "metadata": {},
   "outputs": [],
   "source": [
    "#WebDriverWait(driver, 10).until(EC.frame_to_be_available_and_switch_to_it((By.CSS_SELECTOR,\"iframe[name^='a-'][src^='https://www.google.com/recaptcha/api2/anchor?']\")))\n",
    "#WebDriverWait(driver, 10).until(EC.element_to_be_clickable((By.XPATH, \"//span[@id='recaptcha-anchor']\"))).click()"
   ]
  },
  {
   "cell_type": "code",
   "execution_count": 18,
   "metadata": {},
   "outputs": [],
   "source": [
    "sitekey_clean = '6LdCfb8UAAAAAI-ubtp5e05A3i8A0h5fhnsrLvil'"
   ]
  },
  {
   "cell_type": "code",
   "execution_count": 19,
   "metadata": {},
   "outputs": [],
   "source": [
    "url = driver.current_url"
   ]
  },
  {
   "cell_type": "code",
   "execution_count": 20,
   "metadata": {},
   "outputs": [],
   "source": [
    "api_key = '872dd297c08cdded7b13845b14b2c631'"
   ]
  },
  {
   "cell_type": "code",
   "execution_count": 21,
   "metadata": {},
   "outputs": [
    {
     "name": "stdout",
     "output_type": "stream",
     "text": [
      "making request to createTask\n",
      "created task with id 1199041036\n",
      "making request to getTaskResult\n",
      "task solved\n",
      "g-response: 03AGdBq26ppi6aJIhOHlJ8-bdUiLVKz8Y7qFGxk_OGjvuCN63v2aAsDLXMHXtvJRs_zwIveBbrg6FHQhWsyL67eGPXSzhLWb2V8iuVkEL5-OPjKYyShaHxHGYHvIe6NtYb0lFPbrq8ebu2t4VxQwkSeltAigxYO_6J7Gc0wwHJ-O4rThRz15gI-SGiR9OQ4aVO6Ds1buxj1gX8rtVsqMfImTJ5G-jlDxiuvzuZA7KpQKq1L05unxUiQfLWdYbkgwxRgCeQdv-ZXodkDl3_PduyLn_qLDatfhhRTuJu3WdvkahKlRsQtCBALMb1ltDmOFloFYFha7VnzXQalIsqsKwm_S4Smq4E8g3tg-a_L7nkWTv_PubLxeeY4liL5PjxTxYBwpRhHdt6QtwKxoIYN4vIsQCrboqWnKwMc3csoUV7AEx8gzioInyT4gKidZ-QBve0W7ORAvevlFbzvG_o3AstieL0q4WVXT1eXNuN5ij3dhMMuSDR0UZnXlu4Af5GwWRO3mMY9wblcy59iJhdOkuJMEildjq_vCp7lwQrkgb-JKV-u7kItajgcbo\n"
     ]
    }
   ],
   "source": [
    "solver = recaptchaV2Proxyless()\n",
    "solver.set_verbose(1)\n",
    "solver.set_key(api_key)\n",
    "solver.set_website_url(url)\n",
    "solver.set_website_key(sitekey_clean)\n",
    "\n",
    "g_response = solver.solve_and_return_solution()\n",
    "if g_response != 0:\n",
    "    print (\"g-response: \"+g_response)\n",
    "else:\n",
    "    print (\"task finished with error \"+solver.error_code)"
   ]
  },
  {
   "cell_type": "code",
   "execution_count": 22,
   "metadata": {},
   "outputs": [],
   "source": [
    "driver.execute_script('var element=document.getElementById(\"g-recaptcha-response\"); element.style.display=\"\";')\n"
   ]
  },
  {
   "cell_type": "code",
   "execution_count": 23,
   "metadata": {},
   "outputs": [],
   "source": [
    "driver.execute_script(\"\"\"document.getElementById(\"g-recaptcha-response\").innerHTML = arguments[0]\"\"\", g_response)\n",
    "driver.execute_script('var element=document.getElementById(\"g-recaptcha-response\"); element.style.display=\"none\";')"
   ]
  },
  {
   "cell_type": "code",
   "execution_count": 24,
   "metadata": {},
   "outputs": [],
   "source": [
    "# find iframe\n",
    "captcha_iframe = WebDriverWait(driver, 10).until(\n",
    "    EC.presence_of_element_located(\n",
    "        (\n",
    "            By.TAG_NAME, 'iframe'\n",
    "        )\n",
    "    )\n",
    ")"
   ]
  },
  {
   "cell_type": "code",
   "execution_count": 25,
   "metadata": {},
   "outputs": [],
   "source": [
    "ActionChains(driver).move_to_element(captcha_iframe).click().perform()"
   ]
  },
  {
   "cell_type": "code",
   "execution_count": 26,
   "metadata": {},
   "outputs": [],
   "source": [
    "# click im not robot\n",
    "captcha_box = WebDriverWait(driver, 10).until(\n",
    "    EC.presence_of_element_located(\n",
    "        (\n",
    "            By.ID, 'g-recaptcha-response'\n",
    "        )\n",
    "    )\n",
    ")"
   ]
  },
  {
   "cell_type": "code",
   "execution_count": 27,
   "metadata": {},
   "outputs": [],
   "source": [
    "driver.execute_script(\"arguments[0].click()\", captcha_box)"
   ]
  },
  {
   "cell_type": "code",
   "execution_count": 28,
   "metadata": {},
   "outputs": [],
   "source": [
    "time.sleep(10)"
   ]
  },
  {
   "cell_type": "code",
   "execution_count": 29,
   "metadata": {},
   "outputs": [
    {
     "name": "stderr",
     "output_type": "stream",
     "text": [
      "/var/folders/fp/n32j0tm119g1bqlc2p3x0gy40000gn/T/ipykernel_29779/1500072297.py:1: DeprecationWarning: find_element_by_xpath is deprecated. Please use find_element(by=By.XPATH, value=xpath) instead\n",
      "  driver.find_element_by_xpath('//*[@id=\"button22\"]').click()\n"
     ]
    }
   ],
   "source": [
    "driver.find_element_by_xpath('//*[@id=\"button22\"]').click()\n"
   ]
  },
  {
   "cell_type": "code",
   "execution_count": 30,
   "metadata": {},
   "outputs": [],
   "source": [
    "#look_table()"
   ]
  },
  {
   "cell_type": "code",
   "execution_count": 31,
   "metadata": {},
   "outputs": [
    {
     "name": "stderr",
     "output_type": "stream",
     "text": [
      "/var/folders/fp/n32j0tm119g1bqlc2p3x0gy40000gn/T/ipykernel_29779/3613427170.py:4: DeprecationWarning: find_element_by_xpath is deprecated. Please use find_element(by=By.XPATH, value=xpath) instead\n",
      "  pages = driver.find_element_by_xpath('//*[@id=\"titular\"]/div/form/table[2]/tbody/tr[1]/td[2]')\n",
      "/var/folders/fp/n32j0tm119g1bqlc2p3x0gy40000gn/T/ipykernel_29779/3613427170.py:11: DeprecationWarning: find_elements_by_xpath is deprecated. Please use find_elements(by=By.XPATH, value=xpath) instead\n",
      "  links = driver.find_elements_by_xpath('//*[@id=\"datos\"]/tbody/tr')\n",
      "/var/folders/fp/n32j0tm119g1bqlc2p3x0gy40000gn/T/ipykernel_29779/3613427170.py:14: DeprecationWarning: find_element_by_xpath is deprecated. Please use find_element(by=By.XPATH, value=xpath) instead\n",
      "  next_page = driver.find_element_by_xpath('//*[@id=\"ava\"]')\n"
     ]
    }
   ],
   "source": [
    "rio_chamiza = save_data()"
   ]
  },
  {
   "cell_type": "code",
   "execution_count": 32,
   "metadata": {},
   "outputs": [],
   "source": [
    "name_river_df =\"chamiza\""
   ]
  },
  {
   "cell_type": "code",
   "execution_count": 33,
   "metadata": {},
   "outputs": [
    {
     "data": {
      "text/html": [
       "<div>\n",
       "<style scoped>\n",
       "    .dataframe tbody tr th:only-of-type {\n",
       "        vertical-align: middle;\n",
       "    }\n",
       "\n",
       "    .dataframe tbody tr th {\n",
       "        vertical-align: top;\n",
       "    }\n",
       "\n",
       "    .dataframe thead th {\n",
       "        text-align: right;\n",
       "    }\n",
       "</style>\n",
       "<table border=\"1\" class=\"dataframe\">\n",
       "  <thead>\n",
       "    <tr style=\"text-align: right;\">\n",
       "      <th></th>\n",
       "      <th>Fecha</th>\n",
       "      <th>Hora</th>\n",
       "      <th>caudal m3 chamiza</th>\n",
       "    </tr>\n",
       "  </thead>\n",
       "  <tbody>\n",
       "    <tr>\n",
       "      <th>0</th>\n",
       "      <td>11/02/2022</td>\n",
       "      <td>00:13</td>\n",
       "      <td>1.876</td>\n",
       "    </tr>\n",
       "    <tr>\n",
       "      <th>1</th>\n",
       "      <td>11/02/2022</td>\n",
       "      <td>00:43</td>\n",
       "      <td>1.876</td>\n",
       "    </tr>\n",
       "    <tr>\n",
       "      <th>2</th>\n",
       "      <td>11/02/2022</td>\n",
       "      <td>01:13</td>\n",
       "      <td>1.876</td>\n",
       "    </tr>\n",
       "    <tr>\n",
       "      <th>3</th>\n",
       "      <td>11/02/2022</td>\n",
       "      <td>01:43</td>\n",
       "      <td>1.876</td>\n",
       "    </tr>\n",
       "    <tr>\n",
       "      <th>4</th>\n",
       "      <td>11/02/2022</td>\n",
       "      <td>02:13</td>\n",
       "      <td>1.876</td>\n",
       "    </tr>\n",
       "    <tr>\n",
       "      <th>...</th>\n",
       "      <td>...</td>\n",
       "      <td>...</td>\n",
       "      <td>...</td>\n",
       "    </tr>\n",
       "    <tr>\n",
       "      <th>4262</th>\n",
       "      <td>11/05/2022</td>\n",
       "      <td>13:13</td>\n",
       "      <td>5.081</td>\n",
       "    </tr>\n",
       "    <tr>\n",
       "      <th>4263</th>\n",
       "      <td>11/05/2022</td>\n",
       "      <td>13:43</td>\n",
       "      <td>5.081</td>\n",
       "    </tr>\n",
       "    <tr>\n",
       "      <th>4264</th>\n",
       "      <td>11/05/2022</td>\n",
       "      <td>14:13</td>\n",
       "      <td>5.081</td>\n",
       "    </tr>\n",
       "    <tr>\n",
       "      <th>4265</th>\n",
       "      <td>11/05/2022</td>\n",
       "      <td>14:43</td>\n",
       "      <td>5.081</td>\n",
       "    </tr>\n",
       "    <tr>\n",
       "      <th>4266</th>\n",
       "      <td>11/05/2022</td>\n",
       "      <td>15:13</td>\n",
       "      <td>5.081</td>\n",
       "    </tr>\n",
       "  </tbody>\n",
       "</table>\n",
       "<p>4267 rows × 3 columns</p>\n",
       "</div>"
      ],
      "text/plain": [
       "           Fecha   Hora caudal m3 chamiza\n",
       "0     11/02/2022  00:13             1.876\n",
       "1     11/02/2022  00:43             1.876\n",
       "2     11/02/2022  01:13             1.876\n",
       "3     11/02/2022  01:43             1.876\n",
       "4     11/02/2022  02:13             1.876\n",
       "...          ...    ...               ...\n",
       "4262  11/05/2022  13:13             5.081\n",
       "4263  11/05/2022  13:43             5.081\n",
       "4264  11/05/2022  14:13             5.081\n",
       "4265  11/05/2022  14:43             5.081\n",
       "4266  11/05/2022  15:13             5.081\n",
       "\n",
       "[4267 rows x 3 columns]"
      ]
     },
     "execution_count": 33,
     "metadata": {},
     "output_type": "execute_result"
    }
   ],
   "source": [
    "df = data_frame_river(rio_chamiza, name_river_df)\n",
    "df"
   ]
  },
  {
   "cell_type": "code",
   "execution_count": 34,
   "metadata": {},
   "outputs": [],
   "source": [
    "df.to_csv('rio_chamiza.csv', index=False)"
   ]
  },
  {
   "cell_type": "code",
   "execution_count": 35,
   "metadata": {},
   "outputs": [],
   "source": [
    "driver.close()"
   ]
  },
  {
   "cell_type": "markdown",
   "metadata": {},
   "source": [
    "Rio Puelo"
   ]
  },
  {
   "cell_type": "code",
   "execution_count": null,
   "metadata": {},
   "outputs": [],
   "source": []
  }
 ],
 "metadata": {
  "interpreter": {
   "hash": "3d54bc2653f7abac0a495c6bb7926adbee1ede9532318ce7b342afd9e24b14d6"
  },
  "kernelspec": {
   "display_name": "Python 3.8.9 ('venv': venv)",
   "language": "python",
   "name": "python3"
  },
  "language_info": {
   "codemirror_mode": {
    "name": "ipython",
    "version": 3
   },
   "file_extension": ".py",
   "mimetype": "text/x-python",
   "name": "python",
   "nbconvert_exporter": "python",
   "pygments_lexer": "ipython3",
   "version": "3.8.9"
  },
  "orig_nbformat": 4
 },
 "nbformat": 4,
 "nbformat_minor": 2
}
